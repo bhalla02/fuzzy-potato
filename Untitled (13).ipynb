{
 "cells": [
  {
   "cell_type": "markdown",
   "id": "2fcdc8e6-7dd0-4cf8-b964-c301cb070896",
   "metadata": {},
   "source": [
    "Q1\n",
    "\n",
    "The three measures of central tendency are:\n",
    "\n",
    "Mean: The mean, often referred to as the average, is calculated by summing up all the values in a dataset and dividing by the total number of values.\n",
    "\n",
    "Median: The median is the middle value in a dataset when the values are arranged in ascending or descending order. If there is an even number of values, the median is the average of the two middle values.\n",
    "\n",
    "Mode: The mode is the value that appears most frequently in a dataset. A dataset can have one mode (unimodal), two modes (bimodal), or more than two modes (multimodal), or it can have no mode if no value is repeated.\n",
    "\n",
    "\n",
    "\n",
    "\n",
    "\n"
   ]
  },
  {
   "cell_type": "markdown",
   "id": "3335dc9c-39d6-4dd7-ae20-1b415f106c2f",
   "metadata": {},
   "source": [
    "Q2\n",
    "\n",
    "\n",
    "The mean, median, and mode are all measures of central tendency used to summarize and describe the distribution of data. While they all aim to provide a central value around which the data tend to cluster, they do so in slightly different ways:\n",
    "\n",
    "Mean:\n",
    "\n",
    "The mean is calculated by summing up all the values in a dataset and dividing by the total number of values.\n",
    "It is highly sensitive to outliers, as extreme values can significantly skew the mean.\n",
    "The mean is commonly used when the data is normally distributed or symmetrical.\n",
    "Median:\n",
    "\n",
    "The median is the middle value in a dataset when the values are arranged in ascending or descending order.\n",
    "It is not influenced by extreme values or outliers, making it a robust measure of central tendency.\n",
    "The median is particularly useful when the dataset contains skewed distributions or outliers.\n",
    "Mode:\n",
    "\n",
    "The mode is the value that appears most frequently in a dataset.\n",
    "Unlike the mean and median, the mode does not require numerical data and can be used with categorical or discrete data.\n",
    "It can be useful for identifying the most common category or value in a dataset.\n",
    "A dataset can have one mode (unimodal), two modes (bimodal), or more than two modes (multimodal), or it can have no mode if no value is repeated."
   ]
  },
  {
   "cell_type": "code",
   "execution_count": 1,
   "id": "72157c7b-3f5b-4389-b7d3-e5cae3c4c2dc",
   "metadata": {},
   "outputs": [
    {
     "data": {
      "text/plain": [
       "177.01875"
      ]
     },
     "execution_count": 1,
     "metadata": {},
     "output_type": "execute_result"
    }
   ],
   "source": [
    "##Q3\n",
    "import numpy as np\n",
    "\n",
    "data_set = [ 178,177,176,177,178.2,178,175,179,180,175,178.9,176.2,177,172.5,178,176.5]\n",
    "\n",
    "np.mean(data_set)"
   ]
  },
  {
   "cell_type": "code",
   "execution_count": 2,
   "id": "1bbf366a-810b-4a12-b305-7c4b4cdc25b7",
   "metadata": {},
   "outputs": [
    {
     "data": {
      "text/plain": [
       "177.0"
      ]
     },
     "execution_count": 2,
     "metadata": {},
     "output_type": "execute_result"
    }
   ],
   "source": [
    "np.median(data_set)"
   ]
  },
  {
   "cell_type": "code",
   "execution_count": 3,
   "id": "c1e40971-7aa4-41fb-95ef-69942495e9e7",
   "metadata": {},
   "outputs": [
    {
     "name": "stderr",
     "output_type": "stream",
     "text": [
      "/tmp/ipykernel_103/1097598458.py:3: FutureWarning: Unlike other reduction functions (e.g. `skew`, `kurtosis`), the default behavior of `mode` typically preserves the axis it acts along. In SciPy 1.11.0, this behavior will change: the default value of `keepdims` will become False, the `axis` over which the statistic is taken will be eliminated, and the value None will no longer be accepted. Set `keepdims` to True or False to avoid this warning.\n",
      "  stats.mode(data_set)\n"
     ]
    },
    {
     "data": {
      "text/plain": [
       "ModeResult(mode=array([177.]), count=array([3]))"
      ]
     },
     "execution_count": 3,
     "metadata": {},
     "output_type": "execute_result"
    }
   ],
   "source": [
    "from scipy import stats\n",
    "\n",
    "stats.mode(data_set)"
   ]
  },
  {
   "cell_type": "code",
   "execution_count": 4,
   "id": "809fd5df-958f-46ee-b794-f4f40d4480d2",
   "metadata": {},
   "outputs": [
    {
     "data": {
      "text/plain": [
       "1.7885814036548633"
      ]
     },
     "execution_count": 4,
     "metadata": {},
     "output_type": "execute_result"
    }
   ],
   "source": [
    "#Q4\n",
    "\n",
    "np.std(data_set)"
   ]
  },
  {
   "cell_type": "markdown",
   "id": "3ace77ba-6e82-42c6-be57-021f72cf2b40",
   "metadata": {},
   "source": [
    "Q4\n",
    "Measures of dispersion, such as range, variance, and standard deviation, are used to quantify the spread or variability of data points within a dataset. They provide insight into how much individual data points deviate from the central tendency measures like mean or median.\n",
    "\n",
    "Range:\n",
    "Range is the simplest measure of dispersion and is calculated by subtracting the minimum value from the maximum value in the dataset.\n",
    "It provides a quick indication of how spread out the data is.\n",
    "However, it doesn't take into account the distribution of values between the minimum and maximum.\n",
    "Variance:\n",
    "Variance measures the average squared deviation of each data point from the mean of the dataset.\n",
    "It gives a more precise measure of the dispersion compared to the range.\n",
    "Variance is sensitive to outliers because it involves squaring the deviations.\n",
    "Standard Deviation:\n",
    "Standard deviation is the square root of the variance.\n",
    "It provides a measure of the average deviation of each data point from the mean, in the same units as the original data.\n",
    "Standard deviation is widely used because it is more interpretable than variance, as it is in the same units as the data.\n",
    "Here's an example to illustrate how these measures are used:\n",
    "\n",
    "Suppose we have a dataset representing the daily temperatures (in degrees Celsius) for a particular city over a week:\n",
    "\n",
    "python\n",
    "Copy code\n",
    "temperatures = [20, 22, 23, 21, 19, 25, 24]\n",
    "We can calculate the measures of dispersion for this dataset:\n",
    "\n",
    "Range:\n",
    "\n",
    "Range = Maximum temperature - Minimum temperature\n",
    "Range = 25 - 19 = 6\n",
    "Variance:\n",
    "\n",
    "Variance = Sum of squared deviations from the mean / Number of data points\n",
    "Mean = (20 + 22 + 23 + 21 + 19 + 25 + 24) / 7 = 21.714\n",
    "Variance = [(20-21.714)^2 + (22-21.714)^2 + ... + (24-21.714)^2] / 7 ≈ 4.49\n",
    "Standard Deviation:\n",
    "\n",
    "Standard Deviation = Square root of the variance\n",
    "Standard Deviation ≈ √4.49 ≈ 2.12\n",
    "In this example:\n",
    "\n",
    "The range of temperatures is 6 degrees Celsius.\n",
    "The variance of temperatures is approximately 4.49 square degrees Celsius.\n",
    "The standard deviation of temperatures is approximately 2.12 degrees Celsius."
   ]
  },
  {
   "cell_type": "markdown",
   "id": "f02d5af0-7ab8-4178-9c5b-c4096cb0daec",
   "metadata": {},
   "source": [
    "Q6\n",
    "A Venn diagram is a graphical representation of the relationships between different sets of data. It consists of overlapping circles or other shapes, each representing a set, and the overlapping areas represent the intersections between those sets. Venn diagrams are commonly used in mathematics, logic, statistics, and other fields to visually illustrate the relationships between different groups or categories."
   ]
  },
  {
   "cell_type": "markdown",
   "id": "5f6c3ded-0620-41ee-9947-432c8f17739c",
   "metadata": {},
   "source": [
    "Q7\n",
    "\n",
    "(i) A ∩ B (Intersection of sets A and B):\n",
    "\n",
    "The intersection of two sets contains elements that are common to both sets.\n",
    "For the given sets A = {2, 3, 4, 5, 6, 7} and B = {0, 2, 6, 8, 10}, the intersection is {2, 6} because these are the elements that appear in both sets.\n",
    "(ii) A ⋃ B (Union of sets A and B):\n",
    "\n",
    "The union of two sets contains all the unique elements from both sets.\n",
    "For the given sets A = {2, 3, 4, 5, 6, 7} and B = {0, 2, 6, 8, 10}, the union is {0, 2, 3, 4, 5, 6, 7, 8, 10} because it includes all the unique elements from both sets."
   ]
  },
  {
   "cell_type": "markdown",
   "id": "d054d801-45b3-484a-a1ce-0393ee3e3cae",
   "metadata": {},
   "source": [
    "Q8\n",
    "Skewness in data refers to the asymmetry in the distribution of values within a dataset. It indicates whether the data is symmetrically distributed or skewed to one side. Skewness is an essential concept in statistics and data analysis and can be described as:\n",
    "\n",
    "Positive Skewness: Also known as right-skewed or right-tailed distribution. In a positively skewed distribution, the tail of the distribution extends to the right, indicating that the majority of the data points are concentrated on the left side, with fewer but larger values on the right side.\n",
    "\n",
    "Negative Skewness: Also known as left-skewed or left-tailed distribution. In a negatively skewed distribution, the tail of the distribution extends to the left, indicating that the majority of the data points are concentrated on the right side, with fewer but smaller values on the left side.\n",
    "\n",
    "Zero Skewness: A distribution is considered symmetric or having zero skewness when the data points are evenly distributed around the mean, and the tails on both sides of the distribution are of equal length."
   ]
  },
  {
   "cell_type": "markdown",
   "id": "0d6bf26f-15a4-4b33-8cc4-c95c4d494e89",
   "metadata": {},
   "source": [
    "Q9\n",
    "\n",
    "If a data is right-skewed, the median will be located to the left of the mean.\n",
    "\n",
    "Explanation:\n",
    "\n",
    "In a right-skewed distribution, the tail of the distribution extends to the right, indicating that there are relatively few but large values on the right side.\n",
    "The mean is influenced by these large values, pulling it towards the longer tail.\n",
    "On the other hand, the median represents the middle value of the dataset when arranged in ascending or descending order. In a right-skewed distribution, the presence of large values on the right side means that the median will be smaller than the mean and positioned to the left of the mean."
   ]
  },
  {
   "cell_type": "markdown",
   "id": "68224a75-b4ae-46a7-8191-6c452f8303d6",
   "metadata": {},
   "source": [
    "Q10\n",
    "\n",
    "Covariance:\n",
    "\n",
    "Covariance measures the degree to which two variables change together. It indicates the direction of the linear relationship between two variables.\n",
    "It can take any value, positive, negative, or zero.\n",
    "Covariance does not have a standardized scale, making it difficult to interpret the strength of the relationship between variables.\n",
    "Correlation:\n",
    "\n",
    "Correlation is a standardized measure of the linear relationship between two variables. It indicates both the strength and direction of the relationship.\n",
    "Correlation coefficients range from -1 to +1, where:\n",
    "+1 indicates a perfect positive linear relationship,\n",
    "-1 indicates a perfect negative linear relationship, and\n",
    "0 indicates no linear relationship.\n",
    "Correlation is preferred over covariance because it provides a standardized measure that is easier to interpret and compare across different datasets.\n",
    "Usage in Statistical Analysis:\n",
    "\n",
    "Covariance and correlation are both used to study the relationship between two variables in statistical analysis.\n",
    "They are commonly used in fields such as finance, economics, social sciences, and engineering to analyze patterns, make predictions, and understand the association between variables.\n",
    "Covariance and correlation help researchers and analysts to determine the strength and direction of relationships between variables, which is essential for decision-making, forecasting, and modeling."
   ]
  },
  {
   "cell_type": "markdown",
   "id": "74cc980e-b050-477b-a914-6f02fdbdb46c",
   "metadata": {},
   "source": [
    "Q11\n",
    "\n",
    "The formula for calculating the sample mean (average) is:\n",
    "\n",
    "Sample Mean\n",
    "=\n",
    "Sum of all values in the sample\n",
    "Number of values in the sample\n",
    "Sample Mean= \n",
    "Number of values in the sample\n",
    "Sum of all values in the sample\n",
    "​\n",
    " \n",
    "\n",
    "Example Calculation:\n",
    "Suppose we have a dataset: [10, 15, 20, 25, 30]\n",
    "To find the sample mean:\n",
    "Sample Mean\n",
    "=\n",
    "10\n",
    "+\n",
    "15\n",
    "+\n",
    "20\n",
    "+\n",
    "25\n",
    "+\n",
    "30\n",
    "5\n",
    "=\n",
    "100\n",
    "5\n",
    "=\n",
    "20\n",
    "Sample Mean= \n",
    "5\n",
    "10+15+20+25+30\n",
    "​\n",
    " = \n",
    "5\n",
    "100\n",
    "​\n",
    " =20\n",
    "So, the sample mean of this dataset is 20."
   ]
  },
  {
   "cell_type": "markdown",
   "id": "2fb52b39-9943-4a86-a49a-3996b1416e1c",
   "metadata": {},
   "source": [
    "Q12\n",
    "For a normal distribution:\n",
    "\n",
    "The mean, median, and mode are all equal.\n",
    "They are located at the center of the distribution.\n",
    "This is a fundamental property of a normal distribution, where data is symmetrically distributed around the mean."
   ]
  },
  {
   "cell_type": "markdown",
   "id": "48a9283f-e1a6-487c-85af-f76e3ec3df8b",
   "metadata": {},
   "source": [
    "Q13\n",
    "Difference between Covariance and Correlation:\n",
    "\n",
    "Covariance:\n",
    "\n",
    "Measures the degree to which two variables change together.\n",
    "Can take any value, positive, negative, or zero.\n",
    "Does not have a standardized scale.\n",
    "Units of covariance are the product of the units of the two variables.\n",
    "Correlation:\n",
    "\n",
    "Measures the strength and direction of the linear relationship between two variables.\n",
    "Ranges from -1 to +1, where:\n",
    "+1 indicates a perfect positive linear relationship,\n",
    "-1 indicates a perfect negative linear relationship, and\n",
    "0 indicates no linear relationship.\n",
    "Provides a standardized measure that is easier to interpret and compare across different datasets.\n",
    "Units of correlation are dimensionless."
   ]
  },
  {
   "cell_type": "markdown",
   "id": "a5c2c215-fee1-460f-a4b4-c336a56fabe9",
   "metadata": {},
   "source": [
    "Q14\n"
   ]
  }
 ],
 "metadata": {
  "kernelspec": {
   "display_name": "Python 3 (ipykernel)",
   "language": "python",
   "name": "python3"
  },
  "language_info": {
   "codemirror_mode": {
    "name": "ipython",
    "version": 3
   },
   "file_extension": ".py",
   "mimetype": "text/x-python",
   "name": "python",
   "nbconvert_exporter": "python",
   "pygments_lexer": "ipython3",
   "version": "3.10.8"
  }
 },
 "nbformat": 4,
 "nbformat_minor": 5
}
